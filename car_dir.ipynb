{
 "cells": [
  {
   "cell_type": "code",
   "execution_count": 2,
   "metadata": {},
   "outputs": [
    {
     "ename": "SyntaxError",
     "evalue": "Missing parentheses in call to 'print'. Did you mean print(\"Error. Pi revision didn't recognize, module number: %s\" % line[11:-1])? (PCA9685.py, line 98)",
     "output_type": "error",
     "traceback": [
      "Traceback \u001b[1;36m(most recent call last)\u001b[0m:\n",
      "  File \u001b[0;32m\"C:\\Program Files (x86)\\Microsoft Visual Studio\\Shared\\Anaconda3_64\\lib\\site-packages\\IPython\\core\\interactiveshell.py\"\u001b[0m, line \u001b[0;32m2963\u001b[0m, in \u001b[0;35mrun_code\u001b[0m\n    exec(code_obj, self.user_global_ns, self.user_ns)\n",
      "\u001b[1;36m  File \u001b[1;32m\"<ipython-input-2-ae83e9b68570>\"\u001b[1;36m, line \u001b[1;32m2\u001b[1;36m, in \u001b[1;35m<module>\u001b[1;36m\u001b[0m\n\u001b[1;33m    import PCA9685 as servo\u001b[0m\n",
      "\u001b[1;36m  File \u001b[1;32m\"C:\\Users\\kinzn\\PCA9685.py\"\u001b[1;36m, line \u001b[1;32m98\u001b[0m\n\u001b[1;33m    print \"Error. Pi revision didn't recognize, module number: %s\" % line[11:-1]\u001b[0m\n\u001b[1;37m                                                                 ^\u001b[0m\n\u001b[1;31mSyntaxError\u001b[0m\u001b[1;31m:\u001b[0m Missing parentheses in call to 'print'. Did you mean print(\"Error. Pi revision didn't recognize, module number: %s\" % line[11:-1])?\n"
     ]
    }
   ],
   "source": [
    "#!/usr/bin/env python\n",
    "import PCA9685 as servo\n",
    "import time                # Import necessary modules\n",
    "\n",
    "def Map(x, in_min, in_max, out_min, out_max):\n",
    "\treturn (x - in_min) * (out_max - out_min) / (in_max - in_min) + out_min\n",
    "\n",
    "def setup(busnum=None):\n",
    "\tglobal leftPWM, rightPWM, homePWM, pwm\n",
    "\tleftPWM = 400\n",
    "\thomePWM = 450\n",
    "\trightPWM = 500\n",
    "\toffset =0\n",
    "\ttry:\n",
    "\t\tfor line in open('config'):\n",
    "\t\t\tif line[0:8] == 'offset =':\n",
    "\t\t\t\toffset = int(line[9:-1])\n",
    "\texcept:\n",
    "\t\tprint('config error')\n",
    "\tleftPWM += offset\n",
    "\thomePWM += offset\n",
    "\trightPWM += offset\n",
    "\tif busnum == None:\n",
    "\t\tpwm = servo.PWM()                  # Initialize the servo controller.\n",
    "\telse:\n",
    "\t\tpwm = servo.PWM(bus_number=busnum) # Initialize the servo controller.\n",
    "\tpwm.frequency = 60\n",
    "\n",
    "# ==========================================================================================\n",
    "# Control the servo connected to channel 0 of the servo control board, so as to make the \n",
    "# car turn left.\n",
    "# ==========================================================================================\n",
    "def turn_left():\n",
    "\tglobal leftPWM\n",
    "\tpwm.write(0, 0, leftPWM)  # CH0\n",
    "\n",
    "# ==========================================================================================\n",
    "# Make the car turn right.\n",
    "# ==========================================================================================\n",
    "def turn_right():\n",
    "\tglobal rightPWM\n",
    "\tpwm.write(0, 0, rightPWM)\n",
    "\n",
    "# ==========================================================================================\n",
    "# Make the car turn back.\n",
    "# ==========================================================================================\n",
    "\n",
    "def turn(angle):\n",
    "\tangle = Map(angle, 0, 255, leftPWM, rightPWM)\n",
    "\tpwm.write(0, 0, angle)\n",
    "\n",
    "def home():\n",
    "\tglobal homePWM\n",
    "\tpwm.write(0, 0, homePWM)\n",
    "\n",
    "def calibrate(x):\n",
    "\tpwm.write(0, 0, 450+x)\n",
    "\n",
    "def test():\n",
    "\twhile True:\n",
    "\t\tturn_left()\n",
    "\t\ttime.sleep(1)\n",
    "\t\thome()\n",
    "\t\ttime.sleep(1)\n",
    "\t\tturn_right()\n",
    "\t\ttime.sleep(1)\n",
    "\t\thome()\n",
    "\n",
    "if __name__ == '__main__':\n",
    "\tsetup()\n",
    "\thome()\n",
    "\n",
    "\n"
   ]
  },
  {
   "cell_type": "code",
   "execution_count": null,
   "metadata": {},
   "outputs": [],
   "source": []
  }
 ],
 "metadata": {
  "kernelspec": {
   "display_name": "Python 3",
   "language": "python",
   "name": "python3"
  },
  "language_info": {
   "codemirror_mode": {
    "name": "ipython",
    "version": 3
   },
   "file_extension": ".py",
   "mimetype": "text/x-python",
   "name": "python",
   "nbconvert_exporter": "python",
   "pygments_lexer": "ipython3",
   "version": "3.6.5"
  }
 },
 "nbformat": 4,
 "nbformat_minor": 2
}
